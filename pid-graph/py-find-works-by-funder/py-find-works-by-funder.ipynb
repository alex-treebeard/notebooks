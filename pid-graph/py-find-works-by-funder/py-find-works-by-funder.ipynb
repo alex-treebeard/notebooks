{
 "cells": [
  {
   "cell_type": "markdown",
   "metadata": {},
   "source": [
    "# Publication references by funder\n",
    "\n",
    "This notebook uses the [DataCite GraphQL API](https://api.datacite.org/graphql) to fetch related references based on funder ID and query"
   ]
  },
  {
   "cell_type": "code",
   "execution_count": 2,
   "metadata": {
    "inputHidden": false,
    "outputHidden": false
   },
   "outputs": [],
   "source": [
    "import requests\n",
    "from IPython.display import display, Markdown\n",
    "from gql import gql, Client\n",
    "from gql.transport.requests import RequestsHTTPTransport\n",
    "\n",
    "_transport = RequestsHTTPTransport(\n",
    "    url='https://api.datacite.org/graphql',\n",
    "    use_json=True,\n",
    ")\n",
    "\n",
    "client = Client(\n",
    "    transport=_transport,\n",
    "    fetch_schema_from_transport=True,\n",
    ")"
   ]
  },
  {
   "cell_type": "code",
   "execution_count": 3,
   "metadata": {
    "inputHidden": false,
    "outputHidden": false
   },
   "outputs": [],
   "source": [
    "# Generate the GraphQL query\n",
    "# https://doi.org/10.13039/501100000780 is the European Commission\n",
    "# We want try to query for anything referencing Freya\n",
    "query = gql(\"\"\"\n",
    "{\n",
    "  funder(id: \"https://doi.org/10.13039/501100000780\") {\n",
    "    id\n",
    "    name\n",
    "    works(query: \"freya\") {\n",
    "      totalCount\n",
    "      years {\n",
    "        title\n",
    "        count\n",
    "      }\n",
    "      resourceTypes {\n",
    "        title\n",
    "        count\n",
    "      }\n",
    "      nodes {\n",
    "        id\n",
    "        type\n",
    "        titles {\n",
    "          title\n",
    "        }\n",
    "        creators {\n",
    "          id\n",
    "          name\n",
    "        }\n",
    "        publicationYear\n",
    "        publisher\n",
    "      }\n",
    "    }\n",
    "  }\n",
    "}\n",
    "\"\"\")"
   ]
  },
  {
   "cell_type": "code",
   "execution_count": 4,
   "metadata": {
    "inputHidden": false,
    "outputHidden": false
   },
   "outputs": [],
   "source": [
    "data = client.execute(query)"
   ]
  },
  {
   "cell_type": "code",
   "execution_count": 6,
   "metadata": {
    "inputHidden": false,
    "outputHidden": false
   },
   "outputs": [
    {
     "output_type": "display_data",
     "data": {
      "text/plain": "<IPython.core.display.Markdown object>",
      "text/markdown": "## Related funder publications"
     },
     "metadata": {}
    },
    {
     "output_type": "display_data",
     "data": {
      "text/plain": "<IPython.core.display.Markdown object>",
      "text/markdown": "Total works: 44"
     },
     "metadata": {}
    },
    {
     "output_type": "display_data",
     "data": {
      "text/plain": "<IPython.core.display.Markdown object>",
      "text/markdown": "Text 41"
     },
     "metadata": {}
    },
    {
     "output_type": "display_data",
     "data": {
      "text/plain": "<IPython.core.display.Markdown object>",
      "text/markdown": "Audiovisual 2"
     },
     "metadata": {}
    },
    {
     "output_type": "display_data",
     "data": {
      "text/plain": "<IPython.core.display.Markdown object>",
      "text/markdown": "Software 1"
     },
     "metadata": {}
    },
    {
     "output_type": "display_data",
     "data": {
      "text/plain": "<IPython.core.display.Markdown object>",
      "text/markdown": "Ferguson, C., McEntyre, J., Hendricks, G., Dohna, T., Koop-Jakobsen, K., Madden, F., Dallmeier-Tiessen, S., Sandt, S. V. D., Lavasa, A., Lambert, S., Bunakov, V., Dasler, R., &amp; Fenner, M. (2019). <i>Deliverable D3.2 Requirements for Selected New PID Services</i>. Zenodo. https://doi.org/10.5281/ZENODO.2649230\n\nFerguson, C., McEntyre, J., Hendricks, G., Dohna, T., Koop-Jakobsen, K., Madden, F., Dallmeier-Tiessen, S., Sandt, S. V. D., Lavasa, A., Lambert, S., Bunakov, V., Dasler, R., &amp; Fenner, M. (2019). <i>Deliverable D3.2 Requirements for Selected New PID Services</i>. Zenodo. https://doi.org/10.5281/ZENODO.2649229\n\nFenner, M., Wass, J., Demeranville, T., Wimalaratne, S., &amp; Hallett, R. (2019). <i>D2.2 PID Metadata Provenance</i>. https://doi.org/10.5281/ZENODO.3248653\n\nFenner, M., Wass, J., Demeranville, T., Wimalaratne, S., &amp; Hallett, R. (2019). <i>D2.2 PID Metadata Provenance</i>. https://doi.org/10.5281/ZENODO.3248652\n\nLavasa, A., Dallmeier-Tiessen, S., Sandt, S. V. D., Dohna, T., Koop-Jakobsen, K., Schindler, U., Ferguson, C., McEntyre, J., Madden, F., Lambert, S., Bunakov, V., &amp; Baars, C. (2019). D4.2 Using the PID Graph: Provenance in Disciplinary Systems. <i>Zenodo</i>. https://doi.org/10.5281/ZENODO.3249833\n\nLavasa, A., Dallmeier-Tiessen, S., Sandt, S. V. D., Dohna, T., Koop-Jakobsen, K., Schindler, U., Ferguson, C., McEntyre, J., Madden, F., Lambert, S., Bunakov, V., &amp; Baars, C. (2019). D4.2 Using the PID Graph: Provenance in Disciplinary Systems. <i>Zenodo</i>. https://doi.org/10.5281/ZENODO.3249832\n\nFenner, M. (2019). <i>Jupyter Notebook FREYA PID Graph Key Performance Indicators (KPIs)</i> (Version 1.1.0). DataCite. https://doi.org/10.14454/3BPW-W381\n\nMadden, F. (2019). <i>FREYA RDA UK Workshop July 2019</i>. https://doi.org/10.5281/ZENODO.3361391\n\nMadden, F. (2019). <i>FREYA RDA UK Workshop July 2019</i>. https://doi.org/10.5281/ZENODO.3361390\n\nLammey, R. (2019). <i>Embracing funder workflows (or Grant why-ds…)</i>. https://doi.org/10.5281/ZENODO.3361430\n\nFerguson, C. (2019). <i>Preprints and literature provenance in Europe PMC</i>. https://doi.org/10.5281/ZENODO.3361436\n\nBrown, C. (2019). <i>RDA Europe Update</i>. https://doi.org/10.5281/ZENODO.3361512\n\nBrown, C. (2019). <i>RDA Europe Update</i>. https://doi.org/10.5281/ZENODO.3361511\n\nBrown, C. (2019). <i>JISC and PIDs</i>. https://doi.org/10.5281/ZENODO.3361398\n\nBunakov, V. (2019). <i>STFC case study: PhD research graph</i>. https://doi.org/10.5281/ZENODO.3361419\n\nFenner, M. (2019). <i>RDA Open Science Graphs for FAIR Data Interest Group</i>. https://doi.org/10.5281/ZENODO.3361405\n\nFenner, M. (2019). <i>RDA Open Science Graphs for FAIR Data Interest Group</i>. https://doi.org/10.5281/ZENODO.3361404\n\nCope, J. (2019). <i>DataCite in the UK</i>. https://doi.org/10.5281/ZENODO.3361407\n\nDemeranville, T. (2019). <i>ORCID Update - RDA UK/FREYA Workshop</i>. https://doi.org/10.5281/ZENODO.3361413\n\nDemeranville, T. (2019). <i>ORCID Update - RDA UK/FREYA Workshop</i>. https://doi.org/10.5281/ZENODO.3361412\n\nMadden, F., Mayville, L., Cousijn, H., Horik, R. V., &amp; Kotarski, R. (2019). <i>Deliverable 5.4 Initial Training Materials</i>. https://doi.org/10.5281/ZENODO.3462141\n\nMadden, F., Mayville, L., Cousijn, H., Horik, R. V., &amp; Kotarski, R. (2019). <i>Deliverable 5.4 Initial Training Materials</i>. https://doi.org/10.5281/ZENODO.3462140\n\nde Jong, M., Cousijn, H., Lambert, S., Madden, F., Dohna, T., Koop-Jakobsen, K., &amp; Garza, K. (2019). <i>Project FREYA: Connecting Open Knowledge in the European Open Science Cloud - Materials</i>. https://doi.org/10.5281/ZENODO.3517853\n\nde Jong, M., Cousijn, H., Lambert, S., Madden, F., Dohna, T., Koop-Jakobsen, K., &amp; Garza, K. (2019). <i>Project FREYA: Connecting Open Knowledge in the European Open Science Cloud - Materials</i>. https://doi.org/10.5281/ZENODO.3517852\n\nFerguson, C., McEntyre, J., Hendricks, G., Dohna, T., Koop-Jakobsen, K., Madden, F., Dallmeier-Tiessen, S., Sandt, S. V. D., Lavasa, A., Lambert, S., Bunakov, V., Dasler, R., &amp; Fenner, M. (2019). <i>Deliverable D3.2 Requirements for Selected New PID Services</i>. Zenodo. https://doi.org/10.5281/ZENODO.3554196"
     },
     "metadata": {}
    }
   ],
   "source": [
    "# Generate a list of formatted citations in APA format for the publications\n",
    "\n",
    "ids = ','.join(\n",
    "    list(map(lambda s: s.replace('https://doi.org/',''), \n",
    "             list(map(lambda x : x['id'], data['funder']['works']['nodes'])))))\n",
    "\n",
    "response = requests.get(\n",
    "    'https://api.datacite.org/dois',\n",
    "    params={'style': 'apa', 'page[size]': '250', 'sort': 'created', 'ids': ids},\n",
    "    headers={'Accept': 'text/x-bibliography'}\n",
    ")\n",
    "\n",
    "display(Markdown('## Related funder publications'))\n",
    "display(Markdown('Total works: ' + str(data['funder']['works']['totalCount'])))\n",
    "\n",
    "for resourceType in data['funder']['works']['resourceTypes']:\n",
    "    display(Markdown('{} {}'.format(resourceType['title'], resourceType['count'])))\n",
    "\n",
    "display(Markdown(response.content.decode('utf-8')))"
   ]
  },
  {
   "cell_type": "code",
   "execution_count": null,
   "metadata": {},
   "outputs": [],
   "source": []
  }
 ],
 "metadata": {
  "kernel_info": {
   "name": "ir"
  },
  "kernelspec": {
   "display_name": "Python 3",
   "language": "python",
   "name": "python3"
  },
  "language_info": {
   "codemirror_mode": {
    "name": "ipython",
    "version": 3
   },
   "file_extension": ".py",
   "mimetype": "text/x-python",
   "name": "python",
   "nbconvert_exporter": "python",
   "pygments_lexer": "ipython3",
   "version": "3.6.8-final"
  },
  "nteract": {
   "version": "0.14.3"
  }
 },
 "nbformat": 4,
 "nbformat_minor": 2
}