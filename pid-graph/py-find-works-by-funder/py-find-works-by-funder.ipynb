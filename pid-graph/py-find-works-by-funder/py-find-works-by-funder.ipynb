{
 "cells": [
  {
   "cell_type": "markdown",
   "metadata": {},
   "source": [
    "# Publication references by funder\n",
    "\n",
    "This notebook uses the [DataCite GraphQL API](https://api.datacite.org/graphql) to fetch related references based on funder ID and query"
   ]
  },
  {
   "cell_type": "code",
   "execution_count": 2,
   "metadata": {
    "inputHidden": false,
    "outputHidden": false
   },
   "outputs": [],
   "source": [
    "import requests\n",
    "from IPython.display import display, Markdown\n",
    "from gql import gql, Client\n",
    "from gql.transport.requests import RequestsHTTPTransport\n",
    "\n",
    "_transport = RequestsHTTPTransport(\n",
    "    url='https://api.datacite.org/graphql',\n",
    "    use_json=True,\n",
    ")\n",
    "\n",
    "client = Client(\n",
    "    transport=_transport,\n",
    "    fetch_schema_from_transport=True,\n",
    ")"
   ]
  },
  {
   "cell_type": "code",
   "execution_count": 9,
   "metadata": {
    "inputHidden": false,
    "outputHidden": false
   },
   "outputs": [],
   "source": [
    "# Generate the GraphQL query\n",
    "# https://doi.org/10.13039/501100000780 is the European Commission\n",
    "# We want try to query for anything referencing Freya\n",
    "query = gql(\"\"\"\n",
    "{\n",
    "  funder(id: \"https://doi.org/10.13039/501100000780\") {\n",
    "    id\n",
    "    name\n",
    "    works(query: \"fundingReferences.awardNumber:777523\", first: 75) {\n",
    "      totalCount\n",
    "      years {\n",
    "        title\n",
    "        count\n",
    "      }\n",
    "      resourceTypes {\n",
    "        title\n",
    "        count\n",
    "      }\n",
    "      nodes {\n",
    "        id\n",
    "        type\n",
    "        titles {\n",
    "          title\n",
    "        }\n",
    "        creators {\n",
    "          id\n",
    "          name\n",
    "        }\n",
    "        publicationYear\n",
    "        publisher\n",
    "        formattedCitation(style: \"apa\")\n",
    "      }\n",
    "    }\n",
    "  }\n",
    "}\n",
    "\"\"\")"
   ]
  },
  {
   "cell_type": "code",
   "execution_count": 10,
   "metadata": {
    "inputHidden": false,
    "outputHidden": false
   },
   "outputs": [],
   "source": [
    "data = client.execute(query)"
   ]
  },
  {
   "cell_type": "code",
   "execution_count": 13,
   "metadata": {
    "inputHidden": false,
    "outputHidden": false
   },
   "outputs": [
    {
     "output_type": "display_data",
     "data": {
      "text/plain": "<IPython.core.display.Markdown object>",
      "text/markdown": "## Related funder publications"
     },
     "metadata": {}
    },
    {
     "output_type": "display_data",
     "data": {
      "text/plain": "<IPython.core.display.Markdown object>",
      "text/markdown": "Total works: 63"
     },
     "metadata": {}
    },
    {
     "output_type": "display_data",
     "data": {
      "text/plain": "<IPython.core.display.Markdown object>",
      "text/markdown": "Text 58"
     },
     "metadata": {}
    },
    {
     "output_type": "display_data",
     "data": {
      "text/plain": "<IPython.core.display.Markdown object>",
      "text/markdown": "Audiovisual 2"
     },
     "metadata": {}
    },
    {
     "output_type": "display_data",
     "data": {
      "text/plain": "<IPython.core.display.Markdown object>",
      "text/markdown": "Dataset 2"
     },
     "metadata": {}
    },
    {
     "output_type": "display_data",
     "data": {
      "text/plain": "<IPython.core.display.Markdown object>",
      "text/markdown": "Software 1"
     },
     "metadata": {}
    },
    {
     "output_type": "display_data",
     "data": {
      "text/plain": "<IPython.core.display.Markdown object>",
      "text/markdown": "Fenner, M., Crosas, M., Durand, G., Wimalaratne, S., Gräf, F., Hallett, R., Bernal Llinares, M., Schindler, U., &amp; Clark, T. (2018). <i>Listing of data repositories that embed schema.org metadata in dataset landing pages</i> (Version 1.1.2) [Data set]. Zenodo. <a href='https://doi.org/10.5281/ZENODO.1263942'>https://doi.org/10.5281/ZENODO.1263942</a>"
     },
     "metadata": {}
    },
    {
     "output_type": "display_data",
     "data": {
      "text/plain": "<IPython.core.display.Markdown object>",
      "text/markdown": "Reimer, T., &amp; Madden, F. (2019). <i>From Standard to Community Resource: A View on ISNIs and ORG IDs</i>. <a href='https://doi.org/10.5281/ZENODO.2549228'>https://doi.org/10.5281/ZENODO.2549228</a>"
     },
     "metadata": {}
    },
    {
     "output_type": "display_data",
     "data": {
      "text/plain": "<IPython.core.display.Markdown object>",
      "text/markdown": "Brown, C. (2019). <i>RDA Europe Update</i>. <a href='https://doi.org/10.5281/ZENODO.3361511'>https://doi.org/10.5281/ZENODO.3361511</a>"
     },
     "metadata": {}
    },
    {
     "output_type": "display_data",
     "data": {
      "text/plain": "<IPython.core.display.Markdown object>",
      "text/markdown": "Brown, C. (2019). <i>JISC and PIDs</i>. <a href='https://doi.org/10.5281/ZENODO.3361398'>https://doi.org/10.5281/ZENODO.3361398</a>"
     },
     "metadata": {}
    },
    {
     "output_type": "display_data",
     "data": {
      "text/plain": "<IPython.core.display.Markdown object>",
      "text/markdown": "Fenner, M. (2019). <i>Jupyter Notebook FREYA PID Graph Key Performance Indicators (KPIs)</i> (Version 1.1.0). DataCite. <a href='https://doi.org/10.14454/3BPW-W381'>https://doi.org/10.14454/3BPW-W381</a>"
     },
     "metadata": {}
    },
    {
     "output_type": "display_data",
     "data": {
      "text/plain": "<IPython.core.display.Markdown object>",
      "text/markdown": "Fenner, M., Wass, J., Demeranville, T., Wimalaratne, S., &amp; Hallett, R. (2019). <i>D2.2 PID Metadata Provenance</i>. <a href='https://doi.org/10.5281/ZENODO.3248652'>https://doi.org/10.5281/ZENODO.3248652</a>"
     },
     "metadata": {}
    },
    {
     "output_type": "display_data",
     "data": {
      "text/plain": "<IPython.core.display.Markdown object>",
      "text/markdown": "Morselli, F., Madden, F., Burton, K., &amp; Blaney, J. (2019). <i>(Effectively) Communicating your research online presentations</i>. <a href='https://doi.org/10.5281/ZENODO.3564209'>https://doi.org/10.5281/ZENODO.3564209</a>"
     },
     "metadata": {}
    },
    {
     "output_type": "display_data",
     "data": {
      "text/plain": "<IPython.core.display.Markdown object>",
      "text/markdown": "Madden, F., Cope, J., &amp; Ashton, J. (2020). <i>Building the Picture behind a Dataset</i>. <a href='https://doi.org/10.5281/ZENODO.3674734'>https://doi.org/10.5281/ZENODO.3674734</a>"
     },
     "metadata": {}
    },
    {
     "output_type": "display_data",
     "data": {
      "text/plain": "<IPython.core.display.Markdown object>",
      "text/markdown": "Morselli, F., Madden, F., Burton, K., &amp; Blaney, J. (2019). <i>(Effectively) Communicating your research online presentations</i>. <a href='https://doi.org/10.5281/ZENODO.3564210'>https://doi.org/10.5281/ZENODO.3564210</a>"
     },
     "metadata": {}
    },
    {
     "output_type": "display_data",
     "data": {
      "text/plain": "<IPython.core.display.Markdown object>",
      "text/markdown": "Fenner, M., Wass, J., Demeranville, T., Wimalaratne, S., &amp; Hallett, R. (2019). <i>D2.2 PID Metadata Provenance</i>. <a href='https://doi.org/10.5281/ZENODO.3248653'>https://doi.org/10.5281/ZENODO.3248653</a>"
     },
     "metadata": {}
    },
    {
     "output_type": "display_data",
     "data": {
      "text/plain": "<IPython.core.display.Markdown object>",
      "text/markdown": "Simons, N., Brown, C., &amp; Braukmann, R. (2019). <i>Adventure Time: the PID community challenge - Presentation at PIDapalooza19</i>. <a href='https://doi.org/10.5281/ZENODO.2548714'>https://doi.org/10.5281/ZENODO.2548714</a>"
     },
     "metadata": {}
    },
    {
     "output_type": "display_data",
     "data": {
      "text/plain": "<IPython.core.display.Markdown object>",
      "text/markdown": "Reimer, T., &amp; Madden, F. (2019). <i>From Standard to Community Resource: A View on ISNIs and ORG IDs</i>. <a href='https://doi.org/10.5281/ZENODO.2549227'>https://doi.org/10.5281/ZENODO.2549227</a>"
     },
     "metadata": {}
    },
    {
     "output_type": "display_data",
     "data": {
      "text/plain": "<IPython.core.display.Markdown object>",
      "text/markdown": "Madden, F., Mayville, L., Cousijn, H., Horik, R. V., &amp; Kotarski, R. (2019). <i>Deliverable 5.4 Initial Training Materials</i>. <a href='https://doi.org/10.5281/ZENODO.3462140'>https://doi.org/10.5281/ZENODO.3462140</a>"
     },
     "metadata": {}
    },
    {
     "output_type": "display_data",
     "data": {
      "text/plain": "<IPython.core.display.Markdown object>",
      "text/markdown": "Ferguson, C., &amp; Fenner, M. (2019). <i>The FREYA project: Collaborating to link people, papers, data, to new things…</i>. <a href='https://doi.org/10.5281/ZENODO.3514573'>https://doi.org/10.5281/ZENODO.3514573</a>"
     },
     "metadata": {}
    },
    {
     "output_type": "display_data",
     "data": {
      "text/plain": "<IPython.core.display.Markdown object>",
      "text/markdown": "Ferguson, C., &amp; Fenner, M. (2019). <i>The FREYA project: Collaborating to link people, papers, data, to new things…</i>. <a href='https://doi.org/10.5281/ZENODO.3514572'>https://doi.org/10.5281/ZENODO.3514572</a>"
     },
     "metadata": {}
    },
    {
     "output_type": "display_data",
     "data": {
      "text/plain": "<IPython.core.display.Markdown object>",
      "text/markdown": "Fenner, M. (2019). <i>RDA Open Science Graphs for FAIR Data Interest Group</i>. <a href='https://doi.org/10.5281/ZENODO.3361404'>https://doi.org/10.5281/ZENODO.3361404</a>"
     },
     "metadata": {}
    },
    {
     "output_type": "display_data",
     "data": {
      "text/plain": "<IPython.core.display.Markdown object>",
      "text/markdown": "Bunakov, V. (2019). <i>STFC case study: PhD research graph</i>. <a href='https://doi.org/10.5281/ZENODO.3361419'>https://doi.org/10.5281/ZENODO.3361419</a>"
     },
     "metadata": {}
    },
    {
     "output_type": "display_data",
     "data": {
      "text/plain": "<IPython.core.display.Markdown object>",
      "text/markdown": "Lavasa, A., Dallmeier-Tiessen, S., Sandt, S. V. D., Dohna, T., Koop-Jakobsen, K., Schindler, U., Ferguson, C., McEntyre, J., Madden, F., Lambert, S., Bunakov, V., &amp; Baars, C. (2019). <i>D4.2 Using the PID Graph: Provenance in Disciplinary Systems</i>. <a href='https://doi.org/10.5281/ZENODO.3249832'>https://doi.org/10.5281/ZENODO.3249832</a>"
     },
     "metadata": {}
    },
    {
     "output_type": "display_data",
     "data": {
      "text/plain": "<IPython.core.display.Markdown object>",
      "text/markdown": "Lammey, R. (2019). <i>Embracing funder workflows (or Grant why-ds…)</i>. <a href='https://doi.org/10.5281/ZENODO.3361430'>https://doi.org/10.5281/ZENODO.3361430</a>"
     },
     "metadata": {}
    },
    {
     "output_type": "display_data",
     "data": {
      "text/plain": "<IPython.core.display.Markdown object>",
      "text/markdown": "Madden, F., Kearney, N., Boruta, L., &amp; Marín-Arraiza, P. (2019). <i>Fourth FREYA Ambassador Webinar</i>. Zenodo. <a href='https://doi.org/10.5281/ZENODO.3460655'>https://doi.org/10.5281/ZENODO.3460655</a>"
     },
     "metadata": {}
    },
    {
     "output_type": "display_data",
     "data": {
      "text/plain": "<IPython.core.display.Markdown object>",
      "text/markdown": "Madden, F., Mayville, L., Cousijn, H., Horik, R. V., &amp; Kotarski, R. (2019). <i>Deliverable 5.4 Initial Training Materials</i>. <a href='https://doi.org/10.5281/ZENODO.3462141'>https://doi.org/10.5281/ZENODO.3462141</a>"
     },
     "metadata": {}
    },
    {
     "output_type": "display_data",
     "data": {
      "text/plain": "<IPython.core.display.Markdown object>",
      "text/markdown": "de Jong, M., Cousijn, H., Lambert, S., Madden, F., Dohna, T., Koop-Jakobsen, K., &amp; Garza, K. (2019). <i>Project FREYA: Connecting Open Knowledge in the European Open Science Cloud - Materials</i>. <a href='https://doi.org/10.5281/ZENODO.3517852'>https://doi.org/10.5281/ZENODO.3517852</a>"
     },
     "metadata": {}
    },
    {
     "output_type": "display_data",
     "data": {
      "text/plain": "<IPython.core.display.Markdown object>",
      "text/markdown": "Madden, F. (2019). <i>The Power of PIDs</i>. <a href='https://doi.org/10.5281/ZENODO.3361396'>https://doi.org/10.5281/ZENODO.3361396</a>"
     },
     "metadata": {}
    },
    {
     "output_type": "display_data",
     "data": {
      "text/plain": "<IPython.core.display.Markdown object>",
      "text/markdown": "Ferguson, C. (2019). <i>Preprints and literature provenance in Europe PMC</i>. <a href='https://doi.org/10.5281/ZENODO.3361436'>https://doi.org/10.5281/ZENODO.3361436</a>"
     },
     "metadata": {}
    },
    {
     "output_type": "display_data",
     "data": {
      "text/plain": "<IPython.core.display.Markdown object>",
      "text/markdown": "Bangert, D., Hermans, E., van Horik, R., de Jong, M., Koers, H., &amp; Mokrane, M. (2019). <i>Recommendations for Services in a FAIR data ecosystem</i>. <a href='https://doi.org/10.5281/ZENODO.3585742'>https://doi.org/10.5281/ZENODO.3585742</a>"
     },
     "metadata": {}
    }
   ],
   "source": [
    "# Display output\n",
    "\n",
    "display(Markdown('## Related funder publications'))\n",
    "display(Markdown('Total works: ' + str(data['funder']['works']['totalCount'])))\n",
    "\n",
    "for resourceType in data['funder']['works']['resourceTypes']:\n",
    "    display(Markdown('{} {}'.format(resourceType['title'], resourceType['count'])))\n",
    "\n",
    "for work in data['funder']['works']['nodes']:\n",
    "    display(Markdown(work['formattedCitation']))"
   ]
  },
  {
   "cell_type": "code",
   "execution_count": null,
   "metadata": {},
   "outputs": [],
   "source": []
  }
 ],
 "metadata": {
  "kernel_info": {
   "name": "ir"
  },
  "kernelspec": {
   "display_name": "Python 3",
   "language": "python",
   "name": "python3"
  },
  "language_info": {
   "codemirror_mode": {
    "name": "ipython",
    "version": 3
   },
   "file_extension": ".py",
   "mimetype": "text/x-python",
   "name": "python",
   "nbconvert_exporter": "python",
   "pygments_lexer": "ipython3",
   "version": "3.6.8-final"
  },
  "nteract": {
   "version": "0.14.3"
  }
 },
 "nbformat": 4,
 "nbformat_minor": 2
}