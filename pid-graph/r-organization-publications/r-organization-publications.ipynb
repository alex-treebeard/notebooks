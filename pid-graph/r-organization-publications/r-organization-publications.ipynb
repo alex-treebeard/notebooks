{
  "cells": [
    {
      "cell_type": "markdown",
      "source": [
        "# PID Graph for publications from organization DataCite\n",
        "\n",
        "This notebook uses the [DataCite GraphQL API](https://api.datacite.org/graphql) to fetch all publications whose metadata includes a DataCite ROR affiliation identifier.\n",
        "\n",
        "This notebook uses R, but you could do the same thing in another language of your choice. \n",
        "\n",
        "It might be also be helpful to consult the [DataCite metadata schema](https://schema.datacite.org) for descriptions of resource types and other available fields. \n",
        "\n",
        "# Step 1: Prepare the R GraphQL client\n",
        "Load necessary libraries and set up the DataCite GraphQL API endpoint. "
      ],
      "metadata": {}
    },
    {
      "cell_type": "code",
      "source": [
        "# Prepare the R graphql client.\n",
        "\n",
        "library(\"httr\")\n",
        "library(\"ghql\")\n",
        "library(\"jsonlite\")\n",
        "library(\"IRdisplay\")\n",
        "library(\"dplyr\")\n",
        "library(\"igraph\")\n",
        "\n",
        "cli <- GraphqlClient$new(\n",
        "  url = \"https://api.datacite.org/client-api/graphql\"\n",
        ")\n",
        "qry <- Query$new()"
      ],
      "outputs": [],
      "execution_count": 4,
      "metadata": {
        "inputHidden": false,
        "outputHidden": false
      }
    },
    {
      "cell_type": "markdown",
      "source": [
        "# Step 2: Generate the GraphQL query\n",
        "In this query, we are looking through DataCite DOIs and finding those that include DataCite's own organizational ROR ID as an affiliation identifier. \n",
        "\n",
        "DataCite DOIs can be assigned to datasets, publications, software and more. In this example we'll just be looking through DataCite DOIs that are assigned to datasets and publications, but the DataCite GraphQL API lets you specify what you want to search through and how we want to get information back. "
      ],
      "metadata": {}
    },
    {
      "cell_type": "code",
      "source": [
        "query <- '{\n",
        "  organization(id: \"https://ror.org/04wxnsj81\") {\n",
        "    publications(first: 150) {\n",
        "      totalCount\n",
        "      nodes {\n",
        "        id\n",
        "        creators {\n",
        "          id\n",
        "          affiliation {\n",
        "            id\n",
        "          }\n",
        "        }\n",
        "        relatedIdentifiers {\n",
        "          relatedIdentifier\n",
        "        }\n",
        "        fundingReferences {\n",
        "          funderIdentifier\n",
        "        }\n",
        "      }\n",
        "    }\n",
        "    datasets {\n",
        "      totalCount\n",
        "      nodes {\n",
        "        id\n",
        "        creators {\n",
        "          id\n",
        "          affiliation {\n",
        "            id\n",
        "          }\n",
        "        }\n",
        "        relatedIdentifiers {\n",
        "          relatedIdentifier\n",
        "        }\n",
        "        fundingReferences {\n",
        "          funderIdentifier\n",
        "        }\n",
        "      }\n",
        "    }\n",
        "  }\n",
        "}'"
      ],
      "outputs": [],
      "execution_count": 5,
      "metadata": {
        "inputHidden": false,
        "outputHidden": false
      }
    },
    {
      "cell_type": "markdown",
      "source": [
        "# Step 3: Run the query"
      ],
      "metadata": {}
    },
    {
      "cell_type": "code",
      "source": [
        "# Run the query and parse the JSON response\n",
        "\n",
        "qry$query('getdata', query)\n",
        "data <- fromJSON(cli$exec(qry$queries$getdata))"
      ],
      "outputs": [],
      "execution_count": 6,
      "metadata": {
        "inputHidden": false,
        "outputHidden": false
      }
    },
    {
      "cell_type": "code",
      "source": [
        "# Get the number of publications and datasets\n",
        "\n",
        "display_json(data$data$organization$publications$totalCount)\n",
        "display_json(data$data$organization$datasets$totalCount)"
      ],
      "outputs": [
        {
          "output_type": "error",
          "ename": "ERROR",
          "evalue": "Error in prepare_content(isbinary, data, file): Either need to specify data or file, but not both\n",
          "traceback": [
            "Error in prepare_content(isbinary, data, file): Either need to specify data or file, but not both\nTraceback:\n",
            "1. display_json(data$data$organization$publications$totalCount)",
            "2. display_raw(\"application/json\", FALSE, data, file)",
            "3. prepare_content(isbinary, data, file)",
            "4. stop(\"Either need to specify data or file, but not both\")"
          ]
        }
      ],
      "execution_count": 7,
      "metadata": {
        "inputHidden": false,
        "outputHidden": false
      }
    },
    {
      "cell_type": "markdown",
      "source": [
        "# Step 4: Make the graph\n",
        "First we need to prepare the data frame and define all of the nodes for the graph. "
      ],
      "metadata": {}
    },
    {
      "cell_type": "code",
      "source": [
        "# generate data frame for nodes\n",
        "publications <- data.frame(id=data$data$organization$publications$nodes$id, pid_type=c('publication'))\n",
        "# datasets <- data.frame(id=data$data$organization$datasets$nodes$id, pid_type=c('dataset'))\n",
        "researchers <- data.frame(id=bind_rows(data$data$organization$publications$nodes$creators)[,1], pid_type=c('researcher'))\n",
        "researchers <- researchers %>% filter(!is.na(as.character(id)))\n",
        "# dataset_researchers <- data.frame(id=bind_rows(data$data$organization$datasets$nodes$creators)[,1], pid_type=c('researcher'))\n",
        "# dataset_researchers <- dataset_researchers %>% filter(!is.na(as.character(id)))\n",
        "organizations <- data.frame(id=bind_rows(bind_rows(data$data$organization$publications$nodes$creators)[,2])[,1], pid_type=c('organization'))\n",
        "organizations <- organizations %>% filter(!is.na(as.character(id)))\n",
        "#references <- data.frame(id=bind_rows(data$data$organization$publications$nodes$relatedIdentifiers)[,1], pid_type=c('publication'))\n",
        "#references <- references %>% filter(!is.na(as.character(id))) %>% mutate(id = ifelse(startsWith(as.character(id), '10.'), paste('https://doi.org/', id, sep=''), as.character(id)))\n",
        "# dataset_references <- data.frame(id=bind_rows(data$data$organization$datasets$nodes$relatedIdentifiers)[,1], pid_type=c('publication'))\n",
        "#dataset_references <- dataset_references %>% filter(!is.na(as.character(id))) %>% mutate(id = ifelse(startsWith(as.character(id), '10.'), paste('https://doi.org/', id, sep=''), as.character(id)))\n",
        "#funders <- data.frame(id=bind_rows(data$data$organization$publications$nodes$fundingReferences)[,1], pid_type=c('funder'))\n",
        "#dataset_funders <- data.frame(id=bind_rows(data$data$organization$datasets$nodes$fundingReferences)[,1], pid_type=c('funder'))\n",
        "nodes <- rbind(publications, researchers, organizations)\n",
        "\n",
        "# remove duplicates\n",
        "nodes <- nodes %>% distinct(id, .keep_all = TRUE)"
      ],
      "outputs": [],
      "execution_count": null,
      "metadata": {
        "inputHidden": false,
        "outputHidden": false
      }
    },
    {
      "cell_type": "markdown",
      "source": [
        "Then we define the edges, looping through each node as we go."
      ],
      "metadata": {}
    },
    {
      "cell_type": "code",
      "source": [
        "# loop through nodes, as they can have more than one edge\n",
        "edges <- data.frame(to=character(), from=character())\n",
        "nodes_with_creators <- bind_rows(data$data$organization$publications$nodes) %>% filter(lengths(creators) != 0)\n",
        "for (i in 1:nrow(nodes_with_creators)) {\n",
        "  row <- data.frame(to=unlist(nodes_with_creators[i,2]), from=nodes_with_creators[i,1])\n",
        "  edges <- unique(rbind(edges, row))\n",
        "}\n",
        "#dataset_nodes_with_creators <- bind_rows(data$data$organization$datasets$nodes) %>% filter(lengths(creators) != 0)\n",
        "#for (i in 1:nrow(dataset_nodes_with_creators)) {\n",
        "#  row <- data.frame(to=unlist(dataset_nodes_with_creators[i,2]), from=dataset_nodes_with_creators[i,1])\n",
        "#  edges <- unique(rbind(edges, row))\n",
        "#}\n",
        "\n",
        "#nodes_with_references <- bind_rows(data$data$organization$publications$nodes) %>% filter(lengths(relatedIdentifiers) != 0)\n",
        "#for (i in 1:nrow(nodes_with_references)) {\n",
        "#  row <- data.frame(to=unlist(nodes_with_references[i,3]), from=nodes_with_references[i,1])\n",
        "#  edges <- unique(rbind(edges, row))\n",
        "#}\n",
        "#dataset_nodes_with_references <- bind_rows(data$data$organization$datasets$nodes) %>% filter(lengths(relatedIdentifiers) != 0)\n",
        "#for (i in 1:nrow(dataset_nodes_with_references)) {\n",
        "#  row <- data.frame(to=unlist(dataset_nodes_with_references[i,3]), from=dataset_nodes_with_references[i,1])\n",
        "#  edges <- unique(rbind(edges, row))\n",
        "#}\n",
        "\n",
        "#nodes_with_dataset_references <- bind_rows(data$data$organization$datasets$nodes) %>% filter(lengths(relatedIdentifiers) != 0)\n",
        "#for (i in 1:nrow(nodes_with_dataset_references)) {\n",
        "#  row <- data.frame(to=unlist(nodes_with_dataset_references[i,3]), from=nodes_with_dataset_references[i,1])\n",
        "#  edges <- unique(rbind(edges, row))\n",
        "#}\n",
        "\n",
        "#nodes_with_funding <- bind_rows(data$data$organization$publications$nodes) %>% filter(lengths(fundingReferences) != 0)\n",
        "#for (i in 1:nrow(nodes_with_funding)) {\n",
        "#  row <- data.frame(to=unlist(nodes_with_funding[i,4]), from=nodes_with_funding[i,1])\n",
        "#  edges <- unique(rbind(edges, row))\n",
        "#}\n",
        "#dataset_nodes_with_funding <- bind_rows(data$data$organization$datasets$nodes) %>% filter(lengths(fundingReferences) != 0)\n",
        "#for (i in 1:nrow(dataset_nodes_with_funding)) {\n",
        "#  row <- data.frame(to=unlist(dataset_nodes_with_funding[i,4]), from=dataset_nodes_with_funding[i,1])\n",
        "#  edges <- unique(rbind(edges, row))\n",
        "#}\n",
        "\n",
        "# express DOIs as URLs\n",
        "edges <- edges %>% filter(!is.na(as.character(to))) %>% mutate(to = ifelse(startsWith(as.character(to), '10.'), paste('https://doi.org/', to, sep=''), as.character(to)))"
      ],
      "outputs": [],
      "execution_count": null,
      "metadata": {
        "inputHidden": false,
        "outputHidden": false
      }
    },
    {
      "cell_type": "markdown",
      "source": [
        "Next we format the graph for display, specifying color, node size, and other choices."
      ],
      "metadata": {}
    },
    {
      "cell_type": "code",
      "source": [
        "g <- graph_from_data_frame(d=edges, vertices=nodes)\n",
        "\n",
        "# add node colors\n",
        "cols <- brewer.pal(12, \"Set3\")\n",
        "display.brewer.pal(12, \"Set3\")\n",
        "col = c('#ccff66','#48b1f4','#53c48c')\n",
        "V(g)[(V(g)$pid_type==\"publication\")]$color<-'#48b1f4'\n",
        "V(g)[(V(g)$pid_type==\"researcher\")]$color<-'#53c48c'\n",
        "#V(g)[(V(g)$pid_type==\"funder\")]$color<-'#fecf59'\n",
        "#V(g)[(V(g)$pid_type==\"dataset\")]$color<-'#e45718'\n",
        "V(g)[(V(g)$pid_type==\"organization\")]$color<-'#ccff66'\n",
        "\n",
        "# add labels to selected nodes\n",
        "V(g)$label=NA\n",
        "#V(g)[(V(g)$id==\"https://doi.org/10.5281/zenodo.1202173\")]$label<-\"B\"\n",
        "#V(g)[(V(g)$pid_type==\"funder\")]$label <- \"A\"\n",
        "#V(g)[(V(g)$pid_type==\"funder\")]$label.dist <- 1\n",
        "\n",
        "V(g)$size <- 6\n",
        "E(g)$arrow.mode <- 0\n",
        "l <- layout_with_dh(g)"
      ],
      "outputs": [],
      "execution_count": null,
      "metadata": {
        "inputHidden": false,
        "outputHidden": false
      }
    },
    {
      "cell_type": "markdown",
      "source": [
        "Then we plot the graph and add a legend."
      ],
      "metadata": {}
    },
    {
      "cell_type": "code",
      "source": [
        "plot(g, layout=l, arrow.mode=0)\n",
        "\n",
        "# Add a legend\n",
        "legend(\"bottomleft\", legend=levels(as.factor(V(g)$pid_type)), col = col, bty = \"n\", pch=20 , pt.cex = 3, cex = 1, horiz = FALSE, inset = c(0.1, -0.1))"
      ],
      "outputs": [],
      "execution_count": null,
      "metadata": {
        "inputHidden": false,
        "outputHidden": false
      }
    },
    {
      "cell_type": "markdown",
      "source": [
        "# Step 5: Generate resource lists\n",
        "To accompany our graph, we can display lists of all the items that are in it. In this example, we're showing APA-formatted citations for everything that's a \"publication\" resource type. "
      ],
      "metadata": {}
    },
    {
      "cell_type": "code",
      "source": [
        "# Generate a list of formatted citations in APA format for the publications\n",
        "\n",
        "ids <- substring(publications[,1], 17)\n",
        "ids <- paste(ids, collapse = ',')\n",
        "url <- paste('https://api.datacite.org/dois?style=apa&page[size]=250&sort=created&ids=', ids, sep = '')\n",
        "response <- GET(url, accept(\"text/x-bibliography\"))\n",
        "display_markdown('## Publications')\n",
        "display_markdown(content(response, as = 'text'))"
      ],
      "outputs": [],
      "execution_count": null,
      "metadata": {
        "inputHidden": false,
        "outputHidden": false
      }
    }
  ],
  "metadata": {
    "kernel_info": {
      "name": "ir"
    },
    "kernelspec": {
      "display_name": "R",
      "language": "R",
      "name": "ir"
    },
    "language_info": {
      "name": "R",
      "codemirror_mode": "r",
      "pygments_lexer": "r",
      "mimetype": "text/x-r-source",
      "file_extension": ".r",
      "version": "3.6.2"
    },
    "nteract": {
      "version": "0.21.0"
    }
  },
  "nbformat": 4,
  "nbformat_minor": 1
}